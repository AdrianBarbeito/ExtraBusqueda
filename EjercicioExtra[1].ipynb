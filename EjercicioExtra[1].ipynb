{
 "cells": [
  {
   "cell_type": "code",
   "execution_count": 1,
   "id": "b2822a86-1657-4944-a5d3-d11154319f49",
   "metadata": {},
   "outputs": [],
   "source": [
    "def algoritmo_a_star(graph):\n",
    "         #El resultado para este ejemplo debera ser el siguiente:\n",
    "    node_list = []\n",
    "    best_length = 100000\n",
    "    best_path = []\n",
    "  \n",
    "    node_list.append([\"S\", 0, []])\n",
    "\n",
    "    while len(node_list) > 0:\n",
    "        tmpNode = node_list.pop(0)\n",
    "        acualpath = tmpNode[2].copy()\n",
    "        acualpath.append(tmpNode[0])\n",
    "        #Si el largo supera al más corto actual pasa al siguiente nodo en node_list\n",
    "        if tmpNode[0] == \"G\":\n",
    "            if tmpNode[1] < best_length:\n",
    "                best_length = tmpNode[1]\n",
    "                best_path = acualpath.copy()\n",
    "        for path in graph:\n",
    "            if path[0] == tmpNode[0]:\n",
    "                tmp = []\n",
    "                tmp.append(path[1])\n",
    "                tmp.append(path[2] + tmpNode[1])\n",
    "                tmp.append(acualpath)\n",
    "                node_list.append(tmp)\n",
    "       \n",
    "        \n",
    "    print(f\"Recorrido más corto {best_length}\")\n",
    "    print(f\"Camino más corto {best_path}\")\n",
    "    \n",
    "    return (best_length, best_path)"
   ]
  },
  {
   "cell_type": "code",
   "execution_count": 2,
   "id": "a3aede72-05eb-423d-85e6-a18ea5752bd0",
   "metadata": {},
   "outputs": [
    {
     "name": "stdout",
     "output_type": "stream",
     "text": [
      "Recorrido más corto 5\n",
      "Camino más corto ['S', 'A', 'D', 'G']\n"
     ]
    }
   ],
   "source": [
    "#Si el graph es el siguiente:\n",
    "graph = [(\"S\", \"A\",2), (\"S\", \"B\", 3), (\"A\", \"C\", 4),\n",
    "         (\"A\", \"D\", 2), (\"B\", \"E\", 4), (\"B\", \"H\", 1), (\"E\", \"G\", 2), (\"H\", \"G\", 3), (\"D\", \"G\", 1)]\n",
    "best_length, best_path = algoritmo_a_star(graph)"
   ]
  }
 ],
 "metadata": {
  "kernelspec": {
   "display_name": "Python 3",
   "language": "python",
   "name": "python3"
  },
  "language_info": {
   "codemirror_mode": {
    "name": "ipython",
    "version": 3
   },
   "file_extension": ".py",
   "mimetype": "text/x-python",
   "name": "python",
   "nbconvert_exporter": "python",
   "pygments_lexer": "ipython3",
   "version": "3.10.9 (tags/v3.10.9:1dd9be6, Dec  6 2022, 20:01:21) [MSC v.1934 64 bit (AMD64)]"
  },
  "vscode": {
   "interpreter": {
    "hash": "f8ca15d83b6fb72cece3edcf60f6aa40d2cbdeb5c60e0f188ff8c7c65828fd00"
   }
  }
 },
 "nbformat": 4,
 "nbformat_minor": 5
}
